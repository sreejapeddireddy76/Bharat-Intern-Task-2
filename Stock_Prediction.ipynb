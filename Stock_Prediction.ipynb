{
 "cells": [
  {
   "cell_type": "markdown",
   "id": "6e05764b",
   "metadata": {},
   "source": [
    "# Apple Stock Price Prediction using LSTM\n",
    "We are creating an LSTM model to forecast Apple stock prices for next 6 months (Dec 2021 - May 2022)"
   ]
  },
  {
   "cell_type": "markdown",
   "id": "df40774e",
   "metadata": {},
   "source": [
    "# Data\n",
    "About the data, it has been taken from Yahoo Finance website (https://finance.yahoo.com/quote/AAPL) and data contains values from 02-01-1990 to 30-11-2021"
   ]
  },
  {
   "cell_type": "code",
   "execution_count": 53,
   "id": "3dad4cfa",
   "metadata": {},
   "outputs": [],
   "source": [
    "#Importing Libraries\n",
    "import numpy as np\n",
    "import pandas as pd\n",
    "from tensorflow.keras.models import Sequential\n",
    "from tensorflow.keras.layers import LSTM,Dense\n",
    "from sklearn.preprocessing import MinMaxScaler\n",
    "import matplotlib.pyplot as plt\n",
    "import warnings\n",
    "warnings.filterwarnings('ignore')"
   ]
  },
  {
   "cell_type": "code",
   "execution_count": 2,
   "id": "1e28fbda",
   "metadata": {},
   "outputs": [],
   "source": [
    "data = pd.read_csv(\"AAPL.csv\")\n"
   ]
  },
  {
   "cell_type": "code",
   "execution_count": 3,
   "id": "21283cc5",
   "metadata": {},
   "outputs": [
    {
     "data": {
      "text/html": [
       "<div>\n",
       "<style scoped>\n",
       "    .dataframe tbody tr th:only-of-type {\n",
       "        vertical-align: middle;\n",
       "    }\n",
       "\n",
       "    .dataframe tbody tr th {\n",
       "        vertical-align: top;\n",
       "    }\n",
       "\n",
       "    .dataframe thead th {\n",
       "        text-align: right;\n",
       "    }\n",
       "</style>\n",
       "<table border=\"1\" class=\"dataframe\">\n",
       "  <thead>\n",
       "    <tr style=\"text-align: right;\">\n",
       "      <th></th>\n",
       "      <th>Date</th>\n",
       "      <th>Open</th>\n",
       "      <th>High</th>\n",
       "      <th>Low</th>\n",
       "      <th>Close</th>\n",
       "      <th>Adj Close</th>\n",
       "      <th>Volume</th>\n",
       "    </tr>\n",
       "  </thead>\n",
       "  <tbody>\n",
       "    <tr>\n",
       "      <th>0</th>\n",
       "      <td>02-01-1990</td>\n",
       "      <td>0.314732</td>\n",
       "      <td>0.334821</td>\n",
       "      <td>0.312500</td>\n",
       "      <td>0.332589</td>\n",
       "      <td>0.266423</td>\n",
       "      <td>183198400</td>\n",
       "    </tr>\n",
       "    <tr>\n",
       "      <th>1</th>\n",
       "      <td>03-01-1990</td>\n",
       "      <td>0.339286</td>\n",
       "      <td>0.339286</td>\n",
       "      <td>0.334821</td>\n",
       "      <td>0.334821</td>\n",
       "      <td>0.268211</td>\n",
       "      <td>207995200</td>\n",
       "    </tr>\n",
       "    <tr>\n",
       "      <th>2</th>\n",
       "      <td>04-01-1990</td>\n",
       "      <td>0.341518</td>\n",
       "      <td>0.345982</td>\n",
       "      <td>0.332589</td>\n",
       "      <td>0.335938</td>\n",
       "      <td>0.269106</td>\n",
       "      <td>221513600</td>\n",
       "    </tr>\n",
       "    <tr>\n",
       "      <th>3</th>\n",
       "      <td>05-01-1990</td>\n",
       "      <td>0.337054</td>\n",
       "      <td>0.341518</td>\n",
       "      <td>0.330357</td>\n",
       "      <td>0.337054</td>\n",
       "      <td>0.270000</td>\n",
       "      <td>123312000</td>\n",
       "    </tr>\n",
       "    <tr>\n",
       "      <th>4</th>\n",
       "      <td>08-01-1990</td>\n",
       "      <td>0.334821</td>\n",
       "      <td>0.339286</td>\n",
       "      <td>0.330357</td>\n",
       "      <td>0.339286</td>\n",
       "      <td>0.271788</td>\n",
       "      <td>101572800</td>\n",
       "    </tr>\n",
       "    <tr>\n",
       "      <th>...</th>\n",
       "      <td>...</td>\n",
       "      <td>...</td>\n",
       "      <td>...</td>\n",
       "      <td>...</td>\n",
       "      <td>...</td>\n",
       "      <td>...</td>\n",
       "      <td>...</td>\n",
       "    </tr>\n",
       "    <tr>\n",
       "      <th>8037</th>\n",
       "      <td>23-11-2021</td>\n",
       "      <td>161.119995</td>\n",
       "      <td>161.800003</td>\n",
       "      <td>159.059998</td>\n",
       "      <td>161.410004</td>\n",
       "      <td>161.410004</td>\n",
       "      <td>96041900</td>\n",
       "    </tr>\n",
       "    <tr>\n",
       "      <th>8038</th>\n",
       "      <td>24-11-2021</td>\n",
       "      <td>160.750000</td>\n",
       "      <td>162.139999</td>\n",
       "      <td>159.639999</td>\n",
       "      <td>161.940002</td>\n",
       "      <td>161.940002</td>\n",
       "      <td>69463600</td>\n",
       "    </tr>\n",
       "    <tr>\n",
       "      <th>8039</th>\n",
       "      <td>26-11-2021</td>\n",
       "      <td>159.570007</td>\n",
       "      <td>160.449997</td>\n",
       "      <td>156.360001</td>\n",
       "      <td>156.809998</td>\n",
       "      <td>156.809998</td>\n",
       "      <td>76959800</td>\n",
       "    </tr>\n",
       "    <tr>\n",
       "      <th>8040</th>\n",
       "      <td>29-11-2021</td>\n",
       "      <td>159.369995</td>\n",
       "      <td>161.190002</td>\n",
       "      <td>158.789993</td>\n",
       "      <td>160.240005</td>\n",
       "      <td>160.240005</td>\n",
       "      <td>88748200</td>\n",
       "    </tr>\n",
       "    <tr>\n",
       "      <th>8041</th>\n",
       "      <td>30-11-2021</td>\n",
       "      <td>159.990005</td>\n",
       "      <td>165.520004</td>\n",
       "      <td>159.919998</td>\n",
       "      <td>165.300003</td>\n",
       "      <td>165.300003</td>\n",
       "      <td>174048100</td>\n",
       "    </tr>\n",
       "  </tbody>\n",
       "</table>\n",
       "<p>8042 rows × 7 columns</p>\n",
       "</div>"
      ],
      "text/plain": [
       "            Date        Open        High         Low       Close   Adj Close  \\\n",
       "0     02-01-1990    0.314732    0.334821    0.312500    0.332589    0.266423   \n",
       "1     03-01-1990    0.339286    0.339286    0.334821    0.334821    0.268211   \n",
       "2     04-01-1990    0.341518    0.345982    0.332589    0.335938    0.269106   \n",
       "3     05-01-1990    0.337054    0.341518    0.330357    0.337054    0.270000   \n",
       "4     08-01-1990    0.334821    0.339286    0.330357    0.339286    0.271788   \n",
       "...          ...         ...         ...         ...         ...         ...   \n",
       "8037  23-11-2021  161.119995  161.800003  159.059998  161.410004  161.410004   \n",
       "8038  24-11-2021  160.750000  162.139999  159.639999  161.940002  161.940002   \n",
       "8039  26-11-2021  159.570007  160.449997  156.360001  156.809998  156.809998   \n",
       "8040  29-11-2021  159.369995  161.190002  158.789993  160.240005  160.240005   \n",
       "8041  30-11-2021  159.990005  165.520004  159.919998  165.300003  165.300003   \n",
       "\n",
       "         Volume  \n",
       "0     183198400  \n",
       "1     207995200  \n",
       "2     221513600  \n",
       "3     123312000  \n",
       "4     101572800  \n",
       "...         ...  \n",
       "8037   96041900  \n",
       "8038   69463600  \n",
       "8039   76959800  \n",
       "8040   88748200  \n",
       "8041  174048100  \n",
       "\n",
       "[8042 rows x 7 columns]"
      ]
     },
     "execution_count": 3,
     "metadata": {},
     "output_type": "execute_result"
    }
   ],
   "source": [
    "data"
   ]
  },
  {
   "cell_type": "code",
   "execution_count": 4,
   "id": "58972992",
   "metadata": {},
   "outputs": [
    {
     "name": "stdout",
     "output_type": "stream",
     "text": [
      "<class 'pandas.core.frame.DataFrame'>\n",
      "RangeIndex: 8042 entries, 0 to 8041\n",
      "Data columns (total 7 columns):\n",
      " #   Column     Non-Null Count  Dtype  \n",
      "---  ------     --------------  -----  \n",
      " 0   Date       8042 non-null   object \n",
      " 1   Open       8042 non-null   float64\n",
      " 2   High       8042 non-null   float64\n",
      " 3   Low        8042 non-null   float64\n",
      " 4   Close      8042 non-null   float64\n",
      " 5   Adj Close  8042 non-null   float64\n",
      " 6   Volume     8042 non-null   int64  \n",
      "dtypes: float64(5), int64(1), object(1)\n",
      "memory usage: 439.9+ KB\n"
     ]
    }
   ],
   "source": [
    "data.info()"
   ]
  },
  {
   "cell_type": "code",
   "execution_count": 5,
   "id": "c1a06566",
   "metadata": {},
   "outputs": [
    {
     "data": {
      "text/html": [
       "<div>\n",
       "<style scoped>\n",
       "    .dataframe tbody tr th:only-of-type {\n",
       "        vertical-align: middle;\n",
       "    }\n",
       "\n",
       "    .dataframe tbody tr th {\n",
       "        vertical-align: top;\n",
       "    }\n",
       "\n",
       "    .dataframe thead th {\n",
       "        text-align: right;\n",
       "    }\n",
       "</style>\n",
       "<table border=\"1\" class=\"dataframe\">\n",
       "  <thead>\n",
       "    <tr style=\"text-align: right;\">\n",
       "      <th></th>\n",
       "      <th>Open</th>\n",
       "      <th>High</th>\n",
       "      <th>Low</th>\n",
       "      <th>Close</th>\n",
       "      <th>Adj Close</th>\n",
       "      <th>Volume</th>\n",
       "    </tr>\n",
       "  </thead>\n",
       "  <tbody>\n",
       "    <tr>\n",
       "      <th>count</th>\n",
       "      <td>8042.000000</td>\n",
       "      <td>8042.000000</td>\n",
       "      <td>8042.000000</td>\n",
       "      <td>8042.000000</td>\n",
       "      <td>8042.000000</td>\n",
       "      <td>8.042000e+03</td>\n",
       "    </tr>\n",
       "    <tr>\n",
       "      <th>mean</th>\n",
       "      <td>16.351917</td>\n",
       "      <td>16.525066</td>\n",
       "      <td>16.178668</td>\n",
       "      <td>16.358983</td>\n",
       "      <td>15.594377</td>\n",
       "      <td>3.831832e+08</td>\n",
       "    </tr>\n",
       "    <tr>\n",
       "      <th>std</th>\n",
       "      <td>29.698129</td>\n",
       "      <td>30.021799</td>\n",
       "      <td>29.380971</td>\n",
       "      <td>29.717860</td>\n",
       "      <td>29.448485</td>\n",
       "      <td>3.633095e+08</td>\n",
       "    </tr>\n",
       "    <tr>\n",
       "      <th>min</th>\n",
       "      <td>0.114955</td>\n",
       "      <td>0.118304</td>\n",
       "      <td>0.113839</td>\n",
       "      <td>0.115513</td>\n",
       "      <td>0.099037</td>\n",
       "      <td>2.396800e+06</td>\n",
       "    </tr>\n",
       "    <tr>\n",
       "      <th>25%</th>\n",
       "      <td>0.367266</td>\n",
       "      <td>0.375000</td>\n",
       "      <td>0.358929</td>\n",
       "      <td>0.367188</td>\n",
       "      <td>0.308924</td>\n",
       "      <td>1.478439e+08</td>\n",
       "    </tr>\n",
       "    <tr>\n",
       "      <th>50%</th>\n",
       "      <td>2.111071</td>\n",
       "      <td>2.138393</td>\n",
       "      <td>2.058393</td>\n",
       "      <td>2.106428</td>\n",
       "      <td>1.805978</td>\n",
       "      <td>2.664242e+08</td>\n",
       "    </tr>\n",
       "    <tr>\n",
       "      <th>75%</th>\n",
       "      <td>21.204196</td>\n",
       "      <td>21.363661</td>\n",
       "      <td>20.989554</td>\n",
       "      <td>21.170268</td>\n",
       "      <td>18.389792</td>\n",
       "      <td>4.808804e+08</td>\n",
       "    </tr>\n",
       "    <tr>\n",
       "      <th>max</th>\n",
       "      <td>161.679993</td>\n",
       "      <td>165.699997</td>\n",
       "      <td>161.000000</td>\n",
       "      <td>165.300003</td>\n",
       "      <td>165.300003</td>\n",
       "      <td>7.421641e+09</td>\n",
       "    </tr>\n",
       "  </tbody>\n",
       "</table>\n",
       "</div>"
      ],
      "text/plain": [
       "              Open         High          Low        Close    Adj Close  \\\n",
       "count  8042.000000  8042.000000  8042.000000  8042.000000  8042.000000   \n",
       "mean     16.351917    16.525066    16.178668    16.358983    15.594377   \n",
       "std      29.698129    30.021799    29.380971    29.717860    29.448485   \n",
       "min       0.114955     0.118304     0.113839     0.115513     0.099037   \n",
       "25%       0.367266     0.375000     0.358929     0.367188     0.308924   \n",
       "50%       2.111071     2.138393     2.058393     2.106428     1.805978   \n",
       "75%      21.204196    21.363661    20.989554    21.170268    18.389792   \n",
       "max     161.679993   165.699997   161.000000   165.300003   165.300003   \n",
       "\n",
       "             Volume  \n",
       "count  8.042000e+03  \n",
       "mean   3.831832e+08  \n",
       "std    3.633095e+08  \n",
       "min    2.396800e+06  \n",
       "25%    1.478439e+08  \n",
       "50%    2.664242e+08  \n",
       "75%    4.808804e+08  \n",
       "max    7.421641e+09  "
      ]
     },
     "execution_count": 5,
     "metadata": {},
     "output_type": "execute_result"
    }
   ],
   "source": [
    "data.describe()"
   ]
  },
  {
   "cell_type": "code",
   "execution_count": 6,
   "id": "ceca1d41",
   "metadata": {},
   "outputs": [],
   "source": [
    "data['Date'] = pd.to_datetime(data['Date'], dayfirst=True)"
   ]
  },
  {
   "cell_type": "code",
   "execution_count": 7,
   "id": "8ec46159",
   "metadata": {},
   "outputs": [
    {
     "data": {
      "text/html": [
       "<div>\n",
       "<style scoped>\n",
       "    .dataframe tbody tr th:only-of-type {\n",
       "        vertical-align: middle;\n",
       "    }\n",
       "\n",
       "    .dataframe tbody tr th {\n",
       "        vertical-align: top;\n",
       "    }\n",
       "\n",
       "    .dataframe thead th {\n",
       "        text-align: right;\n",
       "    }\n",
       "</style>\n",
       "<table border=\"1\" class=\"dataframe\">\n",
       "  <thead>\n",
       "    <tr style=\"text-align: right;\">\n",
       "      <th></th>\n",
       "      <th>Date</th>\n",
       "      <th>Open</th>\n",
       "      <th>High</th>\n",
       "      <th>Low</th>\n",
       "      <th>Close</th>\n",
       "      <th>Adj Close</th>\n",
       "      <th>Volume</th>\n",
       "      <th>Avg_price</th>\n",
       "    </tr>\n",
       "  </thead>\n",
       "  <tbody>\n",
       "    <tr>\n",
       "      <th>0</th>\n",
       "      <td>1990-01-02</td>\n",
       "      <td>0.314732</td>\n",
       "      <td>0.334821</td>\n",
       "      <td>0.312500</td>\n",
       "      <td>0.332589</td>\n",
       "      <td>0.266423</td>\n",
       "      <td>183198400</td>\n",
       "      <td>0.323661</td>\n",
       "    </tr>\n",
       "    <tr>\n",
       "      <th>1</th>\n",
       "      <td>1990-01-03</td>\n",
       "      <td>0.339286</td>\n",
       "      <td>0.339286</td>\n",
       "      <td>0.334821</td>\n",
       "      <td>0.334821</td>\n",
       "      <td>0.268211</td>\n",
       "      <td>207995200</td>\n",
       "      <td>0.337054</td>\n",
       "    </tr>\n",
       "    <tr>\n",
       "      <th>2</th>\n",
       "      <td>1990-01-04</td>\n",
       "      <td>0.341518</td>\n",
       "      <td>0.345982</td>\n",
       "      <td>0.332589</td>\n",
       "      <td>0.335938</td>\n",
       "      <td>0.269106</td>\n",
       "      <td>221513600</td>\n",
       "      <td>0.339286</td>\n",
       "    </tr>\n",
       "    <tr>\n",
       "      <th>3</th>\n",
       "      <td>1990-01-05</td>\n",
       "      <td>0.337054</td>\n",
       "      <td>0.341518</td>\n",
       "      <td>0.330357</td>\n",
       "      <td>0.337054</td>\n",
       "      <td>0.270000</td>\n",
       "      <td>123312000</td>\n",
       "      <td>0.335938</td>\n",
       "    </tr>\n",
       "    <tr>\n",
       "      <th>4</th>\n",
       "      <td>1990-01-08</td>\n",
       "      <td>0.334821</td>\n",
       "      <td>0.339286</td>\n",
       "      <td>0.330357</td>\n",
       "      <td>0.339286</td>\n",
       "      <td>0.271788</td>\n",
       "      <td>101572800</td>\n",
       "      <td>0.334821</td>\n",
       "    </tr>\n",
       "  </tbody>\n",
       "</table>\n",
       "</div>"
      ],
      "text/plain": [
       "        Date      Open      High       Low     Close  Adj Close     Volume  \\\n",
       "0 1990-01-02  0.314732  0.334821  0.312500  0.332589   0.266423  183198400   \n",
       "1 1990-01-03  0.339286  0.339286  0.334821  0.334821   0.268211  207995200   \n",
       "2 1990-01-04  0.341518  0.345982  0.332589  0.335938   0.269106  221513600   \n",
       "3 1990-01-05  0.337054  0.341518  0.330357  0.337054   0.270000  123312000   \n",
       "4 1990-01-08  0.334821  0.339286  0.330357  0.339286   0.271788  101572800   \n",
       "\n",
       "   Avg_price  \n",
       "0   0.323661  \n",
       "1   0.337054  \n",
       "2   0.339286  \n",
       "3   0.335938  \n",
       "4   0.334821  "
      ]
     },
     "execution_count": 7,
     "metadata": {},
     "output_type": "execute_result"
    }
   ],
   "source": [
    "data['Avg_price'] = data[['High','Low']].mean(axis=1)\n",
    "data.head()"
   ]
  },
  {
   "cell_type": "code",
   "execution_count": 8,
   "id": "a4cbf241",
   "metadata": {},
   "outputs": [
    {
     "data": {
      "text/html": [
       "<div>\n",
       "<style scoped>\n",
       "    .dataframe tbody tr th:only-of-type {\n",
       "        vertical-align: middle;\n",
       "    }\n",
       "\n",
       "    .dataframe tbody tr th {\n",
       "        vertical-align: top;\n",
       "    }\n",
       "\n",
       "    .dataframe thead th {\n",
       "        text-align: right;\n",
       "    }\n",
       "</style>\n",
       "<table border=\"1\" class=\"dataframe\">\n",
       "  <thead>\n",
       "    <tr style=\"text-align: right;\">\n",
       "      <th></th>\n",
       "      <th>Date</th>\n",
       "      <th>Avg_price</th>\n",
       "    </tr>\n",
       "  </thead>\n",
       "  <tbody>\n",
       "    <tr>\n",
       "      <th>0</th>\n",
       "      <td>1990-01-02</td>\n",
       "      <td>0.323661</td>\n",
       "    </tr>\n",
       "    <tr>\n",
       "      <th>1</th>\n",
       "      <td>1990-01-03</td>\n",
       "      <td>0.337054</td>\n",
       "    </tr>\n",
       "    <tr>\n",
       "      <th>2</th>\n",
       "      <td>1990-01-04</td>\n",
       "      <td>0.339286</td>\n",
       "    </tr>\n",
       "    <tr>\n",
       "      <th>3</th>\n",
       "      <td>1990-01-05</td>\n",
       "      <td>0.335938</td>\n",
       "    </tr>\n",
       "    <tr>\n",
       "      <th>4</th>\n",
       "      <td>1990-01-08</td>\n",
       "      <td>0.334821</td>\n",
       "    </tr>\n",
       "  </tbody>\n",
       "</table>\n",
       "</div>"
      ],
      "text/plain": [
       "        Date  Avg_price\n",
       "0 1990-01-02   0.323661\n",
       "1 1990-01-03   0.337054\n",
       "2 1990-01-04   0.339286\n",
       "3 1990-01-05   0.335938\n",
       "4 1990-01-08   0.334821"
      ]
     },
     "execution_count": 8,
     "metadata": {},
     "output_type": "execute_result"
    }
   ],
   "source": [
    "data.drop(['Open','Close','High','Low','Volume','Adj Close'], axis=1, inplace=True)\n",
    "data.head()"
   ]
  },
  {
   "cell_type": "code",
   "execution_count": 9,
   "id": "4c7e2f6b",
   "metadata": {},
   "outputs": [
    {
     "data": {
      "text/html": [
       "<div>\n",
       "<style scoped>\n",
       "    .dataframe tbody tr th:only-of-type {\n",
       "        vertical-align: middle;\n",
       "    }\n",
       "\n",
       "    .dataframe tbody tr th {\n",
       "        vertical-align: top;\n",
       "    }\n",
       "\n",
       "    .dataframe thead th {\n",
       "        text-align: right;\n",
       "    }\n",
       "</style>\n",
       "<table border=\"1\" class=\"dataframe\">\n",
       "  <thead>\n",
       "    <tr style=\"text-align: right;\">\n",
       "      <th></th>\n",
       "      <th>Avg_price</th>\n",
       "    </tr>\n",
       "    <tr>\n",
       "      <th>Date</th>\n",
       "      <th></th>\n",
       "    </tr>\n",
       "  </thead>\n",
       "  <tbody>\n",
       "    <tr>\n",
       "      <th>1990-01-02</th>\n",
       "      <td>0.323661</td>\n",
       "    </tr>\n",
       "    <tr>\n",
       "      <th>1990-01-03</th>\n",
       "      <td>0.337054</td>\n",
       "    </tr>\n",
       "    <tr>\n",
       "      <th>1990-01-04</th>\n",
       "      <td>0.339286</td>\n",
       "    </tr>\n",
       "    <tr>\n",
       "      <th>1990-01-05</th>\n",
       "      <td>0.335938</td>\n",
       "    </tr>\n",
       "    <tr>\n",
       "      <th>1990-01-08</th>\n",
       "      <td>0.334821</td>\n",
       "    </tr>\n",
       "  </tbody>\n",
       "</table>\n",
       "</div>"
      ],
      "text/plain": [
       "            Avg_price\n",
       "Date                 \n",
       "1990-01-02   0.323661\n",
       "1990-01-03   0.337054\n",
       "1990-01-04   0.339286\n",
       "1990-01-05   0.335938\n",
       "1990-01-08   0.334821"
      ]
     },
     "execution_count": 9,
     "metadata": {},
     "output_type": "execute_result"
    }
   ],
   "source": [
    "data.set_index('Date', inplace=True)\n",
    "data.head()"
   ]
  },
  {
   "cell_type": "code",
   "execution_count": 10,
   "id": "944917cf",
   "metadata": {},
   "outputs": [
    {
     "data": {
      "text/plain": [
       "Text(0, 0.5, 'Price')"
      ]
     },
     "execution_count": 10,
     "metadata": {},
     "output_type": "execute_result"
    },
    {
     "data": {
      "image/png": "[encoded data removed]",
      "text/plain": [
       "<Figure size 2000x1200 with 1 Axes>"
      ]
     },
     "metadata": {},
     "output_type": "display_data"
    }
   ],
   "source": [
    "plt.figure(figsize=(20,12))\n",
    "plt.plot(data)\n",
    "plt.xlabel('Year', fontsize=15)\n",
    "plt.ylabel('Price', fontsize=15)"
   ]
  },
  {
   "cell_type": "code",
   "execution_count": 11,
   "id": "3e3ff431",
   "metadata": {},
   "outputs": [
    {
     "data": {
      "text/plain": [
       "Avg_price    0.323661\n",
       "Name: 1990-01-02 00:00:00, dtype: float64"
      ]
     },
     "execution_count": 11,
     "metadata": {},
     "output_type": "execute_result"
    }
   ],
   "source": [
    "data.loc['1990-01-02']"
   ]
  },
  {
   "cell_type": "code",
   "execution_count": 12,
   "id": "33ec35ce",
   "metadata": {},
   "outputs": [
    {
     "data": {
      "text/plain": [
       "Avg_price    3.146429\n",
       "Name: 2009-01-02 00:00:00, dtype: float64"
      ]
     },
     "execution_count": 12,
     "metadata": {},
     "output_type": "execute_result"
    }
   ],
   "source": [
    "data.loc['2009-01-02']"
   ]
  },
  {
   "cell_type": "code",
   "execution_count": 13,
   "id": "4dc132f4",
   "metadata": {},
   "outputs": [
    {
     "data": {
      "text/plain": [
       "Avg_price    7.622857\n",
       "Name: 2010-01-04 00:00:00, dtype: float64"
      ]
     },
     "execution_count": 13,
     "metadata": {},
     "output_type": "execute_result"
    }
   ],
   "source": [
    "data.loc['2010-01-04']"
   ]
  },
  {
   "cell_type": "code",
   "execution_count": 14,
   "id": "f0a5ca03",
   "metadata": {},
   "outputs": [
    {
     "data": {
      "text/plain": [
       "Avg_price    11.698214\n",
       "Name: 2011-01-03 00:00:00, dtype: float64"
      ]
     },
     "execution_count": 14,
     "metadata": {},
     "output_type": "execute_result"
    }
   ],
   "source": [
    "data.loc['2011-01-03']"
   ]
  },
  {
   "cell_type": "code",
   "execution_count": 15,
   "id": "3d168e62",
   "metadata": {},
   "outputs": [
    {
     "data": {
      "text/plain": [
       "4792"
      ]
     },
     "execution_count": 15,
     "metadata": {},
     "output_type": "execute_result"
    }
   ],
   "source": [
    "len(data.loc['1990-01-02':'2009-01-02'])"
   ]
  },
  {
   "cell_type": "code",
   "execution_count": 16,
   "id": "67f71f52",
   "metadata": {},
   "outputs": [
    {
     "data": {
      "text/html": [
       "<div>\n",
       "<style scoped>\n",
       "    .dataframe tbody tr th:only-of-type {\n",
       "        vertical-align: middle;\n",
       "    }\n",
       "\n",
       "    .dataframe tbody tr th {\n",
       "        vertical-align: top;\n",
       "    }\n",
       "\n",
       "    .dataframe thead th {\n",
       "        text-align: right;\n",
       "    }\n",
       "</style>\n",
       "<table border=\"1\" class=\"dataframe\">\n",
       "  <thead>\n",
       "    <tr style=\"text-align: right;\">\n",
       "      <th></th>\n",
       "      <th>Avg_price</th>\n",
       "    </tr>\n",
       "    <tr>\n",
       "      <th>Date</th>\n",
       "      <th></th>\n",
       "    </tr>\n",
       "  </thead>\n",
       "  <tbody>\n",
       "    <tr>\n",
       "      <th>2009-01-05</th>\n",
       "      <td>3.373036</td>\n",
       "    </tr>\n",
       "    <tr>\n",
       "      <th>2009-01-06</th>\n",
       "      <td>3.385000</td>\n",
       "    </tr>\n",
       "    <tr>\n",
       "      <th>2009-01-07</th>\n",
       "      <td>3.263571</td>\n",
       "    </tr>\n",
       "    <tr>\n",
       "      <th>2009-01-08</th>\n",
       "      <td>3.271250</td>\n",
       "    </tr>\n",
       "    <tr>\n",
       "      <th>2009-01-09</th>\n",
       "      <td>3.277143</td>\n",
       "    </tr>\n",
       "    <tr>\n",
       "      <th>...</th>\n",
       "      <td>...</td>\n",
       "    </tr>\n",
       "    <tr>\n",
       "      <th>2021-11-23</th>\n",
       "      <td>160.430001</td>\n",
       "    </tr>\n",
       "    <tr>\n",
       "      <th>2021-11-24</th>\n",
       "      <td>160.889999</td>\n",
       "    </tr>\n",
       "    <tr>\n",
       "      <th>2021-11-26</th>\n",
       "      <td>158.404999</td>\n",
       "    </tr>\n",
       "    <tr>\n",
       "      <th>2021-11-29</th>\n",
       "      <td>159.989998</td>\n",
       "    </tr>\n",
       "    <tr>\n",
       "      <th>2021-11-30</th>\n",
       "      <td>162.720001</td>\n",
       "    </tr>\n",
       "  </tbody>\n",
       "</table>\n",
       "<p>3250 rows × 1 columns</p>\n",
       "</div>"
      ],
      "text/plain": [
       "             Avg_price\n",
       "Date                  \n",
       "2009-01-05    3.373036\n",
       "2009-01-06    3.385000\n",
       "2009-01-07    3.263571\n",
       "2009-01-08    3.271250\n",
       "2009-01-09    3.277143\n",
       "...                ...\n",
       "2021-11-23  160.430001\n",
       "2021-11-24  160.889999\n",
       "2021-11-26  158.404999\n",
       "2021-11-29  159.989998\n",
       "2021-11-30  162.720001\n",
       "\n",
       "[3250 rows x 1 columns]"
      ]
     },
     "execution_count": 16,
     "metadata": {},
     "output_type": "execute_result"
    }
   ],
   "source": [
    "data = data.iloc[4792:]\n",
    "data"
   ]
  },
  {
   "cell_type": "code",
   "execution_count": 17,
   "id": "77d10045",
   "metadata": {},
   "outputs": [
    {
     "data": {
      "text/plain": [
       "Text(0, 0.5, 'Price')"
      ]
     },
     "execution_count": 17,
     "metadata": {},
     "output_type": "execute_result"
    },
    {
     "data": {
      "image/png": "[encoded data removed]",
      "text/plain": [
       "<Figure size 2000x1000 with 1 Axes>"
      ]
     },
     "metadata": {},
     "output_type": "display_data"
    }
   ],
   "source": [
    "plt.figure(figsize=(20,10))\n",
    "plt.plot(data)\n",
    "plt.xlabel('Year', fontsize=15)\n",
    "plt.ylabel('Price', fontsize=15)"
   ]
  },
  {
   "cell_type": "code",
   "execution_count": 18,
   "id": "6b5950fa",
   "metadata": {},
   "outputs": [
    {
     "data": {
      "text/plain": [
       "3250"
      ]
     },
     "execution_count": 18,
     "metadata": {},
     "output_type": "execute_result"
    }
   ],
   "source": [
    "len(data)"
   ]
  },
  {
   "cell_type": "code",
   "execution_count": 19,
   "id": "7366cffa",
   "metadata": {},
   "outputs": [
    {
     "data": {
      "text/plain": [
       "253"
      ]
     },
     "execution_count": 19,
     "metadata": {},
     "output_type": "execute_result"
    }
   ],
   "source": [
    "# Days in a year\n",
    "len(data.loc['2009-01-05':'2010-01-05'])"
   ]
  },
  {
   "cell_type": "code",
   "execution_count": 20,
   "id": "d43bfe69",
   "metadata": {},
   "outputs": [
    {
     "data": {
      "text/plain": [
       "252"
      ]
     },
     "execution_count": 20,
     "metadata": {},
     "output_type": "execute_result"
    }
   ],
   "source": [
    "len(data.loc['2011-01-05':'2012-01-04'])"
   ]
  },
  {
   "cell_type": "code",
   "execution_count": 21,
   "id": "ae49c144",
   "metadata": {},
   "outputs": [
    {
     "data": {
      "text/plain": [
       "DatetimeIndex(['2009-01-05', '2009-01-06', '2009-01-07', '2009-01-08',\n",
       "               '2009-01-09', '2009-01-12', '2009-01-13', '2009-01-14',\n",
       "               '2009-01-15', '2009-01-16',\n",
       "               ...\n",
       "               '2021-11-16', '2021-11-17', '2021-11-18', '2021-11-19',\n",
       "               '2021-11-22', '2021-11-23', '2021-11-24', '2021-11-26',\n",
       "               '2021-11-29', '2021-11-30'],\n",
       "              dtype='datetime64[ns]', name='Date', length=3250, freq=None)"
      ]
     },
     "execution_count": 21,
     "metadata": {},
     "output_type": "execute_result"
    }
   ],
   "source": [
    "data.index"
   ]
  },
  {
   "cell_type": "code",
   "execution_count": 22,
   "id": "89d4b5b0",
   "metadata": {},
   "outputs": [
    {
     "data": {
      "text/plain": [
       "128"
      ]
     },
     "execution_count": 22,
     "metadata": {},
     "output_type": "execute_result"
    }
   ],
   "source": [
    "len(data.loc['2021-05-30':'2021-11-30'])"
   ]
  },
  {
   "cell_type": "code",
   "execution_count": 23,
   "id": "d5acb852",
   "metadata": {},
   "outputs": [],
   "source": [
    "test_size = 128\n",
    "cutoff = len(data)- test_size"
   ]
  },
  {
   "cell_type": "code",
   "execution_count": 24,
   "id": "5c4d972d",
   "metadata": {},
   "outputs": [],
   "source": [
    "train = data.iloc[:cutoff]\n",
    "test = data.iloc[cutoff:]"
   ]
  },
  {
   "cell_type": "code",
   "execution_count": 25,
   "id": "63d218d8",
   "metadata": {},
   "outputs": [
    {
     "name": "stdout",
     "output_type": "stream",
     "text": [
      "3122\n",
      "128\n"
     ]
    }
   ],
   "source": [
    "print(len(train))\n",
    "print(len(test))"
   ]
  },
  {
   "cell_type": "code",
   "execution_count": 26,
   "id": "663827b0",
   "metadata": {},
   "outputs": [],
   "source": [
    "scaler = MinMaxScaler()"
   ]
  },
  {
   "cell_type": "code",
   "execution_count": 27,
   "id": "3e686116",
   "metadata": {},
   "outputs": [
    {
     "data": {
      "text/plain": [
       "MinMaxScaler()"
      ]
     },
     "execution_count": 27,
     "metadata": {},
     "output_type": "execute_result"
    }
   ],
   "source": [
    "scaler.fit(train)"
   ]
  },
  {
   "cell_type": "code",
   "execution_count": 28,
   "id": "f18c5396",
   "metadata": {},
   "outputs": [],
   "source": [
    "scaled_train = scaler.transform(train)\n",
    "scaled_test = scaler.transform(test)"
   ]
  },
  {
   "cell_type": "markdown",
   "id": "0ae8a8fa",
   "metadata": {},
   "source": [
    "# Time Series Generator\n",
    "Create a TimeSeriesGenerator object based off the scaled_train data. length should be eual to the number that can capture the seasonality or patten or behaviour how prices increase or decrese in a cycle."
   ]
  },
  {
   "cell_type": "code",
   "execution_count": 29,
   "id": "63d593be",
   "metadata": {},
   "outputs": [],
   "source": [
    "from tensorflow.keras.preprocessing.sequence import TimeseriesGenerator\n",
    "length = 126 #(6 months days considering 252 average days in a year)\n",
    "generator = TimeseriesGenerator(scaled_train, scaled_train, length=length, batch_size=32)"
   ]
  },
  {
   "cell_type": "code",
   "execution_count": 30,
   "id": "37509a87",
   "metadata": {},
   "outputs": [],
   "source": [
    "from tensorflow.keras.layers import Dropout"
   ]
  },
  {
   "cell_type": "code",
   "execution_count": 31,
   "id": "a9fe0511",
   "metadata": {},
   "outputs": [],
   "source": [
    "model = Sequential()\n",
    "n_features = 1\n",
    "\n",
    "model.add(LSTM(100, input_shape=(length, n_features), return_sequences=True))\n",
    "model.add(Dropout(0.3))\n",
    "model.add(LSTM(50, return_sequences=True))\n",
    "model.add(Dropout(0.25))\n",
    "model.add(LSTM(25))\n",
    "model.add(Dropout(0.2))\n",
    "\n",
    "model.add(Dense(1))\n",
    "model.compile(optimizer='adam', loss='mse')"
   ]
  },
  {
   "cell_type": "code",
   "execution_count": 32,
   "id": "3c70b59e",
   "metadata": {},
   "outputs": [
    {
     "name": "stdout",
     "output_type": "stream",
     "text": [
      "(32, 126, 1)\n",
      "(32, 1)\n"
     ]
    }
   ],
   "source": [
    "X,y = generator[0]\n",
    "print(X.shape)\n",
    "print(y.shape)"
   ]
  },
  {
   "cell_type": "code",
   "execution_count": 33,
   "id": "37216a78",
   "metadata": {},
   "outputs": [
    {
     "name": "stdout",
     "output_type": "stream",
     "text": [
      "Model: \"sequential\"\n",
      "_________________________________________________________________\n",
      " Layer (type)                Output Shape              Param #   \n",
      "=================================================================\n",
      " lstm (LSTM)                 (None, 126, 100)          40800     \n",
      "                                                                 \n",
      " dropout (Dropout)           (None, 126, 100)          0         \n",
      "                                                                 \n",
      " lstm_1 (LSTM)               (None, 126, 50)           30200     \n",
      "                                                                 \n",
      " dropout_1 (Dropout)         (None, 126, 50)           0         \n",
      "                                                                 \n",
      " lstm_2 (LSTM)               (None, 25)                7600      \n",
      "                                                                 \n",
      " dropout_2 (Dropout)         (None, 25)                0         \n",
      "                                                                 \n",
      " dense (Dense)               (None, 1)                 26        \n",
      "                                                                 \n",
      "=================================================================\n",
      "Total params: 78626 (307.13 KB)\n",
      "Trainable params: 78626 (307.13 KB)\n",
      "Non-trainable params: 0 (0.00 Byte)\n",
      "_________________________________________________________________\n"
     ]
    }
   ],
   "source": [
    "model.summary()"
   ]
  },
  {
   "cell_type": "code",
   "execution_count": 34,
   "id": "85796475",
   "metadata": {},
   "outputs": [],
   "source": [
    "validation_generator = TimeseriesGenerator(scaled_test,scaled_test, length=length, batch_size=32)"
   ]
  },
  {
   "cell_type": "code",
   "execution_count": 35,
   "id": "c21e05df",
   "metadata": {},
   "outputs": [],
   "source": [
    "from tensorflow.keras.callbacks import EarlyStopping\n",
    "early_stop = EarlyStopping(monitor='val_loss',patience=10)"
   ]
  },
  {
   "cell_type": "code",
   "execution_count": 36,
   "id": "9956a79c",
   "metadata": {},
   "outputs": [
    {
     "name": "stdout",
     "output_type": "stream",
     "text": [
      "Epoch 1/40\n",
      "94/94 [==============================] - 43s 333ms/step - loss: 0.0066 - val_loss: 0.0616\n",
      "Epoch 2/40\n",
      "94/94 [==============================] - 29s 305ms/step - loss: 0.0036 - val_loss: 0.0230\n",
      "Epoch 3/40\n",
      "94/94 [==============================] - 29s 305ms/step - loss: 0.0022 - val_loss: 9.8567e-04\n",
      "Epoch 4/40\n",
      "94/94 [==============================] - 29s 303ms/step - loss: 0.0035 - val_loss: 0.0741\n",
      "Epoch 5/40\n",
      "94/94 [==============================] - 29s 310ms/step - loss: 0.0025 - val_loss: 0.0135\n",
      "Epoch 6/40\n",
      "94/94 [==============================] - 28s 302ms/step - loss: 0.0034 - val_loss: 0.0035\n",
      "Epoch 7/40\n",
      "94/94 [==============================] - 29s 306ms/step - loss: 0.0022 - val_loss: 0.0844\n",
      "Epoch 8/40\n",
      "94/94 [==============================] - 29s 313ms/step - loss: 0.0026 - val_loss: 0.0605\n",
      "Epoch 9/40\n",
      "94/94 [==============================] - 29s 313ms/step - loss: 0.0017 - val_loss: 0.0058\n",
      "Epoch 10/40\n",
      "94/94 [==============================] - 29s 308ms/step - loss: 0.0021 - val_loss: 0.0068\n",
      "Epoch 11/40\n",
      "94/94 [==============================] - 29s 312ms/step - loss: 0.0023 - val_loss: 0.0099\n",
      "Epoch 12/40\n",
      "94/94 [==============================] - 29s 311ms/step - loss: 0.0023 - val_loss: 0.0040\n",
      "Epoch 13/40\n",
      "94/94 [==============================] - 29s 312ms/step - loss: 0.0013 - val_loss: 0.0050\n"
     ]
    },
    {
     "data": {
      "text/plain": [
       "<keras.src.callbacks.History at 0x29202d15820>"
      ]
     },
     "execution_count": 36,
     "metadata": {},
     "output_type": "execute_result"
    }
   ],
   "source": [
    "# fit model\\\n",
    "model.fit_generator(generator,epochs=40,\n",
    "                    validation_data=validation_generator,\n",
    "                    callbacks=[early_stop])"
   ]
  },
  {
   "cell_type": "code",
   "execution_count": 37,
   "id": "95409d87",
   "metadata": {},
   "outputs": [
    {
     "data": {
      "text/plain": [
       "<AxesSubplot:>"
      ]
     },
     "execution_count": 37,
     "metadata": {},
     "output_type": "execute_result"
    },
    {
     "data": {
      "image/png": "[encoded data removed]",
      "text/plain": [
       "<Figure size 640x480 with 1 Axes>"
      ]
     },
     "metadata": {},
     "output_type": "display_data"
    }
   ],
   "source": [
    "loss = pd.DataFrame(model.history.history)\n",
    "loss.plot()"
   ]
  },
  {
   "cell_type": "code",
   "execution_count": 38,
   "id": "c9fbc385",
   "metadata": {},
   "outputs": [
    {
     "name": "stdout",
     "output_type": "stream",
     "text": [
      "1/1 [==============================] - 2s 2s/step\n",
      "1/1 [==============================] - 0s 78ms/step\n",
      "1/1 [==============================] - 0s 79ms/step\n",
      "1/1 [==============================] - 0s 79ms/step\n",
      "1/1 [==============================] - 0s 79ms/step\n",
      "1/1 [==============================] - 0s 80ms/step\n",
      "1/1 [==============================] - 0s 80ms/step\n",
      "1/1 [==============================] - 0s 78ms/step\n",
      "1/1 [==============================] - 0s 78ms/step\n",
      "1/1 [==============================] - 0s 78ms/step\n",
      "1/1 [==============================] - 0s 79ms/step\n",
      "1/1 [==============================] - 0s 96ms/step\n",
      "1/1 [==============================] - 0s 94ms/step\n",
      "1/1 [==============================] - 0s 110ms/step\n",
      "1/1 [==============================] - 0s 95ms/step\n",
      "1/1 [==============================] - 0s 95ms/step\n",
      "1/1 [==============================] - 0s 111ms/step\n",
      "1/1 [==============================] - 0s 95ms/step\n",
      "1/1 [==============================] - 0s 78ms/step\n",
      "1/1 [==============================] - 0s 79ms/step\n",
      "1/1 [==============================] - 0s 79ms/step\n",
      "1/1 [==============================] - 0s 80ms/step\n",
      "1/1 [==============================] - 0s 78ms/step\n",
      "1/1 [==============================] - 0s 79ms/step\n",
      "1/1 [==============================] - 0s 78ms/step\n",
      "1/1 [==============================] - 0s 79ms/step\n",
      "1/1 [==============================] - 0s 63ms/step\n",
      "1/1 [==============================] - 0s 78ms/step\n",
      "1/1 [==============================] - 0s 78ms/step\n",
      "1/1 [==============================] - 0s 78ms/step\n",
      "1/1 [==============================] - 0s 80ms/step\n",
      "1/1 [==============================] - 0s 79ms/step\n",
      "1/1 [==============================] - 0s 79ms/step\n",
      "1/1 [==============================] - 0s 79ms/step\n",
      "1/1 [==============================] - 0s 79ms/step\n",
      "1/1 [==============================] - 0s 78ms/step\n",
      "1/1 [==============================] - 0s 79ms/step\n",
      "1/1 [==============================] - 0s 78ms/step\n",
      "1/1 [==============================] - 0s 78ms/step\n",
      "1/1 [==============================] - 0s 79ms/step\n",
      "1/1 [==============================] - 0s 79ms/step\n",
      "1/1 [==============================] - 0s 79ms/step\n",
      "1/1 [==============================] - 0s 79ms/step\n",
      "1/1 [==============================] - 0s 79ms/step\n",
      "1/1 [==============================] - 0s 79ms/step\n",
      "1/1 [==============================] - 0s 78ms/step\n",
      "1/1 [==============================] - 0s 78ms/step\n",
      "1/1 [==============================] - 0s 78ms/step\n",
      "1/1 [==============================] - 0s 63ms/step\n",
      "1/1 [==============================] - 0s 80ms/step\n",
      "1/1 [==============================] - 0s 79ms/step\n",
      "1/1 [==============================] - 0s 94ms/step\n",
      "1/1 [==============================] - 0s 79ms/step\n",
      "1/1 [==============================] - 0s 95ms/step\n",
      "1/1 [==============================] - 0s 78ms/step\n",
      "1/1 [==============================] - 0s 80ms/step\n",
      "1/1 [==============================] - 0s 78ms/step\n",
      "1/1 [==============================] - 0s 78ms/step\n",
      "1/1 [==============================] - 0s 78ms/step\n",
      "1/1 [==============================] - 0s 78ms/step\n",
      "1/1 [==============================] - 0s 78ms/step\n",
      "1/1 [==============================] - 0s 80ms/step\n",
      "1/1 [==============================] - 0s 79ms/step\n",
      "1/1 [==============================] - 0s 63ms/step\n",
      "1/1 [==============================] - 0s 79ms/step\n",
      "1/1 [==============================] - 0s 78ms/step\n",
      "1/1 [==============================] - 0s 79ms/step\n",
      "1/1 [==============================] - 0s 63ms/step\n",
      "1/1 [==============================] - 0s 78ms/step\n",
      "1/1 [==============================] - 0s 78ms/step\n",
      "1/1 [==============================] - 0s 78ms/step\n",
      "1/1 [==============================] - 0s 79ms/step\n",
      "1/1 [==============================] - 0s 79ms/step\n",
      "1/1 [==============================] - 0s 78ms/step\n",
      "1/1 [==============================] - 0s 78ms/step\n",
      "1/1 [==============================] - 0s 78ms/step\n",
      "1/1 [==============================] - 0s 79ms/step\n",
      "1/1 [==============================] - 0s 78ms/step\n",
      "1/1 [==============================] - 0s 78ms/step\n",
      "1/1 [==============================] - 0s 80ms/step\n",
      "1/1 [==============================] - 0s 78ms/step\n",
      "1/1 [==============================] - 0s 62ms/step\n",
      "1/1 [==============================] - 0s 78ms/step\n",
      "1/1 [==============================] - 0s 78ms/step\n",
      "1/1 [==============================] - 0s 78ms/step\n",
      "1/1 [==============================] - 0s 78ms/step\n",
      "1/1 [==============================] - 0s 79ms/step\n",
      "1/1 [==============================] - 0s 78ms/step\n",
      "1/1 [==============================] - 0s 65ms/step\n",
      "1/1 [==============================] - 0s 78ms/step\n",
      "1/1 [==============================] - 0s 78ms/step\n",
      "1/1 [==============================] - 0s 79ms/step\n",
      "1/1 [==============================] - 0s 63ms/step\n",
      "1/1 [==============================] - 0s 79ms/step\n",
      "1/1 [==============================] - 0s 79ms/step\n",
      "1/1 [==============================] - 0s 63ms/step\n",
      "1/1 [==============================] - 0s 79ms/step\n",
      "1/1 [==============================] - 0s 79ms/step\n",
      "1/1 [==============================] - 0s 78ms/step\n",
      "1/1 [==============================] - 0s 79ms/step\n",
      "1/1 [==============================] - 0s 79ms/step\n",
      "1/1 [==============================] - 0s 79ms/step\n",
      "1/1 [==============================] - 0s 79ms/step\n",
      "1/1 [==============================] - 0s 78ms/step\n",
      "1/1 [==============================] - 0s 79ms/step\n",
      "1/1 [==============================] - 0s 78ms/step\n",
      "1/1 [==============================] - 0s 79ms/step\n",
      "1/1 [==============================] - 0s 78ms/step\n",
      "1/1 [==============================] - 0s 79ms/step\n",
      "1/1 [==============================] - 0s 84ms/step\n",
      "1/1 [==============================] - 0s 78ms/step\n",
      "1/1 [==============================] - 0s 79ms/step\n",
      "1/1 [==============================] - 0s 78ms/step\n",
      "1/1 [==============================] - 0s 79ms/step\n",
      "1/1 [==============================] - 0s 78ms/step\n",
      "1/1 [==============================] - 0s 79ms/step\n",
      "1/1 [==============================] - 0s 79ms/step\n",
      "1/1 [==============================] - 0s 79ms/step\n",
      "1/1 [==============================] - 0s 63ms/step\n",
      "1/1 [==============================] - 0s 78ms/step\n",
      "1/1 [==============================] - 0s 78ms/step\n",
      "1/1 [==============================] - 0s 79ms/step\n",
      "1/1 [==============================] - 0s 78ms/step\n",
      "1/1 [==============================] - 0s 79ms/step\n",
      "1/1 [==============================] - 0s 78ms/step\n",
      "1/1 [==============================] - 0s 62ms/step\n",
      "1/1 [==============================] - 0s 78ms/step\n",
      "1/1 [==============================] - 0s 63ms/step\n"
     ]
    }
   ],
   "source": [
    "test_predictions = []\n",
    "\n",
    "first_eval_batch = scaled_train[-length:]\n",
    "current_batch = first_eval_batch.reshape((1, length, n_features))\n",
    "\n",
    "for i in range(len(test)):\n",
    "    \n",
    "    # get prediction 1 time stamp ahead ([0] is for grabbing just the number instead of [array])\n",
    "    current_pred = model.predict(current_batch)[0]\n",
    "    \n",
    "    # store prediction\n",
    "    test_predictions.append(current_pred) \n",
    "    \n",
    "    # update batch to now include prediction and drop first value\n",
    "    current_batch = np.append(current_batch[:,1:,:],[[current_pred]],axis=1)\n"
   ]
  },
  {
   "cell_type": "code",
   "execution_count": 39,
   "id": "ac579d8c",
   "metadata": {},
   "outputs": [
    {
     "data": {
      "text/html": [
       "<div>\n",
       "<style scoped>\n",
       "    .dataframe tbody tr th:only-of-type {\n",
       "        vertical-align: middle;\n",
       "    }\n",
       "\n",
       "    .dataframe tbody tr th {\n",
       "        vertical-align: top;\n",
       "    }\n",
       "\n",
       "    .dataframe thead th {\n",
       "        text-align: right;\n",
       "    }\n",
       "</style>\n",
       "<table border=\"1\" class=\"dataframe\">\n",
       "  <thead>\n",
       "    <tr style=\"text-align: right;\">\n",
       "      <th></th>\n",
       "      <th>Avg_price</th>\n",
       "      <th>Predictions</th>\n",
       "    </tr>\n",
       "    <tr>\n",
       "      <th>Date</th>\n",
       "      <th></th>\n",
       "      <th></th>\n",
       "    </tr>\n",
       "  </thead>\n",
       "  <tbody>\n",
       "    <tr>\n",
       "      <th>2021-06-01</th>\n",
       "      <td>124.645000</td>\n",
       "      <td>126.540123</td>\n",
       "    </tr>\n",
       "    <tr>\n",
       "      <th>2021-06-02</th>\n",
       "      <td>124.645001</td>\n",
       "      <td>126.520658</td>\n",
       "    </tr>\n",
       "    <tr>\n",
       "      <th>2021-06-03</th>\n",
       "      <td>123.989998</td>\n",
       "      <td>126.509846</td>\n",
       "    </tr>\n",
       "    <tr>\n",
       "      <th>2021-06-04</th>\n",
       "      <td>125.005001</td>\n",
       "      <td>126.507301</td>\n",
       "    </tr>\n",
       "    <tr>\n",
       "      <th>2021-06-07</th>\n",
       "      <td>125.575001</td>\n",
       "      <td>126.511573</td>\n",
       "    </tr>\n",
       "    <tr>\n",
       "      <th>...</th>\n",
       "      <td>...</td>\n",
       "      <td>...</td>\n",
       "    </tr>\n",
       "    <tr>\n",
       "      <th>2021-11-23</th>\n",
       "      <td>160.430001</td>\n",
       "      <td>127.792917</td>\n",
       "    </tr>\n",
       "    <tr>\n",
       "      <th>2021-11-24</th>\n",
       "      <td>160.889999</td>\n",
       "      <td>127.798499</td>\n",
       "    </tr>\n",
       "    <tr>\n",
       "      <th>2021-11-26</th>\n",
       "      <td>158.404999</td>\n",
       "      <td>127.804030</td>\n",
       "    </tr>\n",
       "    <tr>\n",
       "      <th>2021-11-29</th>\n",
       "      <td>159.989998</td>\n",
       "      <td>127.809487</td>\n",
       "    </tr>\n",
       "    <tr>\n",
       "      <th>2021-11-30</th>\n",
       "      <td>162.720001</td>\n",
       "      <td>127.814901</td>\n",
       "    </tr>\n",
       "  </tbody>\n",
       "</table>\n",
       "<p>128 rows × 2 columns</p>\n",
       "</div>"
      ],
      "text/plain": [
       "             Avg_price  Predictions\n",
       "Date                               \n",
       "2021-06-01  124.645000   126.540123\n",
       "2021-06-02  124.645001   126.520658\n",
       "2021-06-03  123.989998   126.509846\n",
       "2021-06-04  125.005001   126.507301\n",
       "2021-06-07  125.575001   126.511573\n",
       "...                ...          ...\n",
       "2021-11-23  160.430001   127.792917\n",
       "2021-11-24  160.889999   127.798499\n",
       "2021-11-26  158.404999   127.804030\n",
       "2021-11-29  159.989998   127.809487\n",
       "2021-11-30  162.720001   127.814901\n",
       "\n",
       "[128 rows x 2 columns]"
      ]
     },
     "execution_count": 39,
     "metadata": {},
     "output_type": "execute_result"
    }
   ],
   "source": [
    "true_predictions = scaler.inverse_transform(test_predictions)\n",
    "test['Predictions'] = true_predictions\n",
    "test"
   ]
  },
  {
   "cell_type": "code",
   "execution_count": 40,
   "id": "fb4c6b57",
   "metadata": {},
   "outputs": [
    {
     "data": {
      "text/plain": [
       "[<matplotlib.lines.Line2D at 0x2920d4f03a0>,\n",
       " <matplotlib.lines.Line2D at 0x29211fe9340>]"
      ]
     },
     "execution_count": 40,
     "metadata": {},
     "output_type": "execute_result"
    },
    {
     "data": {
      "image/png": "[encoded data removed]",
      "text/plain": [
       "<Figure size 1500x800 with 1 Axes>"
      ]
     },
     "metadata": {},
     "output_type": "display_data"
    }
   ],
   "source": [
    "plt.figure(figsize=(15,8))\n",
    "plt.plot(test)"
   ]
  },
  {
   "cell_type": "code",
   "execution_count": 41,
   "id": "2c68aa22",
   "metadata": {},
   "outputs": [
    {
     "data": {
      "text/plain": [
       "19.505095283020395"
      ]
     },
     "execution_count": 41,
     "metadata": {},
     "output_type": "execute_result"
    }
   ],
   "source": [
    "from sklearn.metrics import mean_squared_error\n",
    "np.sqrt(mean_squared_error(test['Avg_price'],test['Predictions']))"
   ]
  },
  {
   "cell_type": "code",
   "execution_count": 42,
   "id": "96fc6896",
   "metadata": {},
   "outputs": [
    {
     "name": "stdout",
     "output_type": "stream",
     "text": [
      "[datetime.datetime(2021, 12, 1, 0, 0), datetime.datetime(2021, 12, 2, 0, 0), datetime.datetime(2021, 12, 3, 0, 0), datetime.datetime(2021, 12, 6, 0, 0), datetime.datetime(2021, 12, 7, 0, 0), datetime.datetime(2021, 12, 8, 0, 0), datetime.datetime(2021, 12, 9, 0, 0), datetime.datetime(2021, 12, 10, 0, 0), datetime.datetime(2021, 12, 13, 0, 0), datetime.datetime(2021, 12, 14, 0, 0), datetime.datetime(2021, 12, 15, 0, 0), datetime.datetime(2021, 12, 16, 0, 0), datetime.datetime(2021, 12, 17, 0, 0), datetime.datetime(2021, 12, 20, 0, 0), datetime.datetime(2021, 12, 21, 0, 0), datetime.datetime(2021, 12, 22, 0, 0), datetime.datetime(2021, 12, 23, 0, 0), datetime.datetime(2021, 12, 24, 0, 0), datetime.datetime(2021, 12, 27, 0, 0), datetime.datetime(2021, 12, 28, 0, 0), datetime.datetime(2021, 12, 29, 0, 0), datetime.datetime(2021, 12, 30, 0, 0), datetime.datetime(2021, 12, 31, 0, 0), datetime.datetime(2022, 1, 3, 0, 0), datetime.datetime(2022, 1, 4, 0, 0), datetime.datetime(2022, 1, 5, 0, 0), datetime.datetime(2022, 1, 6, 0, 0), datetime.datetime(2022, 1, 7, 0, 0), datetime.datetime(2022, 1, 10, 0, 0), datetime.datetime(2022, 1, 11, 0, 0), datetime.datetime(2022, 1, 12, 0, 0), datetime.datetime(2022, 1, 13, 0, 0), datetime.datetime(2022, 1, 14, 0, 0), datetime.datetime(2022, 1, 17, 0, 0), datetime.datetime(2022, 1, 18, 0, 0), datetime.datetime(2022, 1, 19, 0, 0), datetime.datetime(2022, 1, 20, 0, 0), datetime.datetime(2022, 1, 21, 0, 0), datetime.datetime(2022, 1, 24, 0, 0), datetime.datetime(2022, 1, 25, 0, 0), datetime.datetime(2022, 1, 26, 0, 0), datetime.datetime(2022, 1, 27, 0, 0), datetime.datetime(2022, 1, 28, 0, 0), datetime.datetime(2022, 1, 31, 0, 0), datetime.datetime(2022, 2, 1, 0, 0), datetime.datetime(2022, 2, 2, 0, 0), datetime.datetime(2022, 2, 3, 0, 0), datetime.datetime(2022, 2, 4, 0, 0), datetime.datetime(2022, 2, 7, 0, 0), datetime.datetime(2022, 2, 8, 0, 0), datetime.datetime(2022, 2, 9, 0, 0), datetime.datetime(2022, 2, 10, 0, 0), datetime.datetime(2022, 2, 11, 0, 0), datetime.datetime(2022, 2, 14, 0, 0), datetime.datetime(2022, 2, 15, 0, 0), datetime.datetime(2022, 2, 16, 0, 0), datetime.datetime(2022, 2, 17, 0, 0), datetime.datetime(2022, 2, 18, 0, 0), datetime.datetime(2022, 2, 21, 0, 0), datetime.datetime(2022, 2, 22, 0, 0), datetime.datetime(2022, 2, 23, 0, 0), datetime.datetime(2022, 2, 24, 0, 0), datetime.datetime(2022, 2, 25, 0, 0), datetime.datetime(2022, 2, 28, 0, 0), datetime.datetime(2022, 3, 1, 0, 0), datetime.datetime(2022, 3, 2, 0, 0), datetime.datetime(2022, 3, 3, 0, 0), datetime.datetime(2022, 3, 4, 0, 0), datetime.datetime(2022, 3, 7, 0, 0), datetime.datetime(2022, 3, 8, 0, 0), datetime.datetime(2022, 3, 9, 0, 0), datetime.datetime(2022, 3, 10, 0, 0), datetime.datetime(2022, 3, 11, 0, 0), datetime.datetime(2022, 3, 14, 0, 0), datetime.datetime(2022, 3, 15, 0, 0), datetime.datetime(2022, 3, 16, 0, 0), datetime.datetime(2022, 3, 17, 0, 0), datetime.datetime(2022, 3, 18, 0, 0), datetime.datetime(2022, 3, 21, 0, 0), datetime.datetime(2022, 3, 22, 0, 0), datetime.datetime(2022, 3, 23, 0, 0), datetime.datetime(2022, 3, 24, 0, 0), datetime.datetime(2022, 3, 25, 0, 0), datetime.datetime(2022, 3, 28, 0, 0), datetime.datetime(2022, 3, 29, 0, 0), datetime.datetime(2022, 3, 30, 0, 0), datetime.datetime(2022, 3, 31, 0, 0), datetime.datetime(2022, 4, 1, 0, 0), datetime.datetime(2022, 4, 4, 0, 0), datetime.datetime(2022, 4, 5, 0, 0), datetime.datetime(2022, 4, 6, 0, 0), datetime.datetime(2022, 4, 7, 0, 0), datetime.datetime(2022, 4, 8, 0, 0), datetime.datetime(2022, 4, 11, 0, 0), datetime.datetime(2022, 4, 12, 0, 0), datetime.datetime(2022, 4, 13, 0, 0), datetime.datetime(2022, 4, 14, 0, 0), datetime.datetime(2022, 4, 15, 0, 0), datetime.datetime(2022, 4, 18, 0, 0), datetime.datetime(2022, 4, 19, 0, 0), datetime.datetime(2022, 4, 20, 0, 0), datetime.datetime(2022, 4, 21, 0, 0), datetime.datetime(2022, 4, 22, 0, 0), datetime.datetime(2022, 4, 25, 0, 0), datetime.datetime(2022, 4, 26, 0, 0), datetime.datetime(2022, 4, 27, 0, 0), datetime.datetime(2022, 4, 28, 0, 0), datetime.datetime(2022, 4, 29, 0, 0), datetime.datetime(2022, 5, 2, 0, 0), datetime.datetime(2022, 5, 3, 0, 0), datetime.datetime(2022, 5, 4, 0, 0), datetime.datetime(2022, 5, 5, 0, 0), datetime.datetime(2022, 5, 6, 0, 0), datetime.datetime(2022, 5, 9, 0, 0), datetime.datetime(2022, 5, 10, 0, 0), datetime.datetime(2022, 5, 11, 0, 0), datetime.datetime(2022, 5, 12, 0, 0), datetime.datetime(2022, 5, 13, 0, 0), datetime.datetime(2022, 5, 16, 0, 0), datetime.datetime(2022, 5, 17, 0, 0), datetime.datetime(2022, 5, 18, 0, 0), datetime.datetime(2022, 5, 19, 0, 0), datetime.datetime(2022, 5, 20, 0, 0), datetime.datetime(2022, 5, 23, 0, 0), datetime.datetime(2022, 5, 24, 0, 0), datetime.datetime(2022, 5, 25, 0, 0), datetime.datetime(2022, 5, 26, 0, 0), datetime.datetime(2022, 5, 27, 0, 0), datetime.datetime(2022, 5, 30, 0, 0), datetime.datetime(2022, 5, 31, 0, 0)]\n"
     ]
    }
   ],
   "source": [
    "from dateutil.parser import parse\n",
    "from dateutil.rrule import rrule, DAILY, MO, TU, WE, TH, FR\n",
    "\n",
    "result = rrule(\n",
    "  DAILY,\n",
    "  byweekday=(MO,TU,WE,TH,FR),\n",
    "  dtstart=parse('2021-12-01'),\n",
    "  until=parse('2022-05-31')\n",
    ")\n",
    "print(list(result))"
   ]
  },
  {
   "cell_type": "code",
   "execution_count": 43,
   "id": "b0f99389",
   "metadata": {},
   "outputs": [
    {
     "data": {
      "text/plain": [
       "[datetime.datetime(2021, 12, 1, 0, 0),\n",
       " datetime.datetime(2021, 12, 2, 0, 0),\n",
       " datetime.datetime(2021, 12, 3, 0, 0),\n",
       " datetime.datetime(2021, 12, 6, 0, 0),\n",
       " datetime.datetime(2021, 12, 7, 0, 0),\n",
       " datetime.datetime(2021, 12, 8, 0, 0),\n",
       " datetime.datetime(2021, 12, 9, 0, 0),\n",
       " datetime.datetime(2021, 12, 10, 0, 0),\n",
       " datetime.datetime(2021, 12, 13, 0, 0),\n",
       " datetime.datetime(2021, 12, 14, 0, 0),\n",
       " datetime.datetime(2021, 12, 15, 0, 0),\n",
       " datetime.datetime(2021, 12, 16, 0, 0),\n",
       " datetime.datetime(2021, 12, 17, 0, 0),\n",
       " datetime.datetime(2021, 12, 20, 0, 0),\n",
       " datetime.datetime(2021, 12, 21, 0, 0),\n",
       " datetime.datetime(2021, 12, 22, 0, 0),\n",
       " datetime.datetime(2021, 12, 23, 0, 0),\n",
       " datetime.datetime(2021, 12, 24, 0, 0),\n",
       " datetime.datetime(2021, 12, 27, 0, 0),\n",
       " datetime.datetime(2021, 12, 28, 0, 0),\n",
       " datetime.datetime(2021, 12, 29, 0, 0),\n",
       " datetime.datetime(2021, 12, 30, 0, 0),\n",
       " datetime.datetime(2021, 12, 31, 0, 0),\n",
       " datetime.datetime(2022, 1, 3, 0, 0),\n",
       " datetime.datetime(2022, 1, 4, 0, 0),\n",
       " datetime.datetime(2022, 1, 5, 0, 0),\n",
       " datetime.datetime(2022, 1, 6, 0, 0),\n",
       " datetime.datetime(2022, 1, 7, 0, 0),\n",
       " datetime.datetime(2022, 1, 10, 0, 0),\n",
       " datetime.datetime(2022, 1, 11, 0, 0),\n",
       " datetime.datetime(2022, 1, 12, 0, 0),\n",
       " datetime.datetime(2022, 1, 13, 0, 0),\n",
       " datetime.datetime(2022, 1, 14, 0, 0),\n",
       " datetime.datetime(2022, 1, 17, 0, 0),\n",
       " datetime.datetime(2022, 1, 18, 0, 0),\n",
       " datetime.datetime(2022, 1, 19, 0, 0),\n",
       " datetime.datetime(2022, 1, 20, 0, 0),\n",
       " datetime.datetime(2022, 1, 21, 0, 0),\n",
       " datetime.datetime(2022, 1, 24, 0, 0),\n",
       " datetime.datetime(2022, 1, 25, 0, 0),\n",
       " datetime.datetime(2022, 1, 26, 0, 0),\n",
       " datetime.datetime(2022, 1, 27, 0, 0),\n",
       " datetime.datetime(2022, 1, 28, 0, 0),\n",
       " datetime.datetime(2022, 1, 31, 0, 0),\n",
       " datetime.datetime(2022, 2, 1, 0, 0),\n",
       " datetime.datetime(2022, 2, 2, 0, 0),\n",
       " datetime.datetime(2022, 2, 3, 0, 0),\n",
       " datetime.datetime(2022, 2, 4, 0, 0),\n",
       " datetime.datetime(2022, 2, 7, 0, 0),\n",
       " datetime.datetime(2022, 2, 8, 0, 0),\n",
       " datetime.datetime(2022, 2, 9, 0, 0),\n",
       " datetime.datetime(2022, 2, 10, 0, 0),\n",
       " datetime.datetime(2022, 2, 11, 0, 0),\n",
       " datetime.datetime(2022, 2, 14, 0, 0),\n",
       " datetime.datetime(2022, 2, 15, 0, 0),\n",
       " datetime.datetime(2022, 2, 16, 0, 0),\n",
       " datetime.datetime(2022, 2, 17, 0, 0),\n",
       " datetime.datetime(2022, 2, 18, 0, 0),\n",
       " datetime.datetime(2022, 2, 21, 0, 0),\n",
       " datetime.datetime(2022, 2, 22, 0, 0),\n",
       " datetime.datetime(2022, 2, 23, 0, 0),\n",
       " datetime.datetime(2022, 2, 24, 0, 0),\n",
       " datetime.datetime(2022, 2, 25, 0, 0),\n",
       " datetime.datetime(2022, 2, 28, 0, 0),\n",
       " datetime.datetime(2022, 3, 1, 0, 0),\n",
       " datetime.datetime(2022, 3, 2, 0, 0),\n",
       " datetime.datetime(2022, 3, 3, 0, 0),\n",
       " datetime.datetime(2022, 3, 4, 0, 0),\n",
       " datetime.datetime(2022, 3, 7, 0, 0),\n",
       " datetime.datetime(2022, 3, 8, 0, 0),\n",
       " datetime.datetime(2022, 3, 9, 0, 0),\n",
       " datetime.datetime(2022, 3, 10, 0, 0),\n",
       " datetime.datetime(2022, 3, 11, 0, 0),\n",
       " datetime.datetime(2022, 3, 14, 0, 0),\n",
       " datetime.datetime(2022, 3, 15, 0, 0),\n",
       " datetime.datetime(2022, 3, 16, 0, 0),\n",
       " datetime.datetime(2022, 3, 17, 0, 0),\n",
       " datetime.datetime(2022, 3, 18, 0, 0),\n",
       " datetime.datetime(2022, 3, 21, 0, 0),\n",
       " datetime.datetime(2022, 3, 22, 0, 0),\n",
       " datetime.datetime(2022, 3, 23, 0, 0),\n",
       " datetime.datetime(2022, 3, 24, 0, 0),\n",
       " datetime.datetime(2022, 3, 25, 0, 0),\n",
       " datetime.datetime(2022, 3, 28, 0, 0),\n",
       " datetime.datetime(2022, 3, 29, 0, 0),\n",
       " datetime.datetime(2022, 3, 30, 0, 0),\n",
       " datetime.datetime(2022, 3, 31, 0, 0),\n",
       " datetime.datetime(2022, 4, 1, 0, 0),\n",
       " datetime.datetime(2022, 4, 4, 0, 0),\n",
       " datetime.datetime(2022, 4, 5, 0, 0),\n",
       " datetime.datetime(2022, 4, 6, 0, 0),\n",
       " datetime.datetime(2022, 4, 7, 0, 0),\n",
       " datetime.datetime(2022, 4, 8, 0, 0),\n",
       " datetime.datetime(2022, 4, 11, 0, 0),\n",
       " datetime.datetime(2022, 4, 12, 0, 0),\n",
       " datetime.datetime(2022, 4, 13, 0, 0),\n",
       " datetime.datetime(2022, 4, 14, 0, 0),\n",
       " datetime.datetime(2022, 4, 15, 0, 0),\n",
       " datetime.datetime(2022, 4, 18, 0, 0),\n",
       " datetime.datetime(2022, 4, 19, 0, 0),\n",
       " datetime.datetime(2022, 4, 20, 0, 0),\n",
       " datetime.datetime(2022, 4, 21, 0, 0),\n",
       " datetime.datetime(2022, 4, 22, 0, 0),\n",
       " datetime.datetime(2022, 4, 25, 0, 0),\n",
       " datetime.datetime(2022, 4, 26, 0, 0),\n",
       " datetime.datetime(2022, 4, 27, 0, 0),\n",
       " datetime.datetime(2022, 4, 28, 0, 0),\n",
       " datetime.datetime(2022, 4, 29, 0, 0),\n",
       " datetime.datetime(2022, 5, 2, 0, 0),\n",
       " datetime.datetime(2022, 5, 3, 0, 0),\n",
       " datetime.datetime(2022, 5, 4, 0, 0),\n",
       " datetime.datetime(2022, 5, 5, 0, 0),\n",
       " datetime.datetime(2022, 5, 6, 0, 0),\n",
       " datetime.datetime(2022, 5, 9, 0, 0),\n",
       " datetime.datetime(2022, 5, 10, 0, 0),\n",
       " datetime.datetime(2022, 5, 11, 0, 0),\n",
       " datetime.datetime(2022, 5, 12, 0, 0),\n",
       " datetime.datetime(2022, 5, 13, 0, 0),\n",
       " datetime.datetime(2022, 5, 16, 0, 0),\n",
       " datetime.datetime(2022, 5, 17, 0, 0),\n",
       " datetime.datetime(2022, 5, 18, 0, 0),\n",
       " datetime.datetime(2022, 5, 19, 0, 0),\n",
       " datetime.datetime(2022, 5, 20, 0, 0),\n",
       " datetime.datetime(2022, 5, 23, 0, 0),\n",
       " datetime.datetime(2022, 5, 24, 0, 0),\n",
       " datetime.datetime(2022, 5, 25, 0, 0),\n",
       " datetime.datetime(2022, 5, 26, 0, 0),\n",
       " datetime.datetime(2022, 5, 27, 0, 0),\n",
       " datetime.datetime(2022, 5, 30, 0, 0),\n",
       " datetime.datetime(2022, 5, 31, 0, 0)]"
      ]
     },
     "execution_count": 43,
     "metadata": {},
     "output_type": "execute_result"
    }
   ],
   "source": [
    "list(result)"
   ]
  },
  {
   "cell_type": "code",
   "execution_count": 44,
   "id": "3b4bde74",
   "metadata": {},
   "outputs": [
    {
     "name": "stdout",
     "output_type": "stream",
     "text": [
      "130\n"
     ]
    },
    {
     "data": {
      "text/plain": [
       "'2021-12-01'"
      ]
     },
     "execution_count": 44,
     "metadata": {},
     "output_type": "execute_result"
    }
   ],
   "source": [
    "print(len(list(result)))\n",
    "list(result)[0].strftime('%Y-%m-%d')"
   ]
  },
  {
   "cell_type": "code",
   "execution_count": 45,
   "id": "c27db9e8",
   "metadata": {},
   "outputs": [
    {
     "data": {
      "text/plain": [
       "0      2021-12-01\n",
       "1      2021-12-02\n",
       "2      2021-12-03\n",
       "3      2021-12-06\n",
       "4      2021-12-07\n",
       "          ...    \n",
       "125    2022-05-25\n",
       "126    2022-05-26\n",
       "127    2022-05-27\n",
       "128    2022-05-30\n",
       "129    2022-05-31\n",
       "Length: 130, dtype: object"
      ]
     },
     "execution_count": 45,
     "metadata": {},
     "output_type": "execute_result"
    }
   ],
   "source": [
    "forecast_date = []\n",
    "for i in list(result):\n",
    "  forecast_date.append(i.strftime('%Y-%m-%d'))\n",
    "\n",
    "forecast_date = pd.Series(forecast_date)\n",
    "forecast_date"
   ]
  },
  {
   "cell_type": "code",
   "execution_count": 46,
   "id": "43afb98c",
   "metadata": {},
   "outputs": [
    {
     "data": {
      "text/plain": [
       "0     2021-12-01\n",
       "1     2021-12-02\n",
       "2     2021-12-03\n",
       "3     2021-12-06\n",
       "4     2021-12-07\n",
       "         ...    \n",
       "125   2022-05-25\n",
       "126   2022-05-26\n",
       "127   2022-05-27\n",
       "128   2022-05-30\n",
       "129   2022-05-31\n",
       "Length: 130, dtype: datetime64[ns]"
      ]
     },
     "execution_count": 46,
     "metadata": {},
     "output_type": "execute_result"
    }
   ],
   "source": [
    "forecast_date = pd.to_datetime(forecast_date, dayfirst=True)\n",
    "forecast_date"
   ]
  },
  {
   "cell_type": "code",
   "execution_count": 47,
   "id": "4fea93f9",
   "metadata": {},
   "outputs": [
    {
     "name": "stdout",
     "output_type": "stream",
     "text": [
      "1/1 [==============================] - 0s 79ms/step\n",
      "1/1 [==============================] - 0s 79ms/step\n",
      "1/1 [==============================] - 0s 79ms/step\n",
      "1/1 [==============================] - 0s 80ms/step\n",
      "1/1 [==============================] - 0s 63ms/step\n",
      "1/1 [==============================] - 0s 64ms/step\n",
      "1/1 [==============================] - 0s 80ms/step\n",
      "1/1 [==============================] - 0s 78ms/step\n",
      "1/1 [==============================] - 0s 63ms/step\n",
      "1/1 [==============================] - 0s 94ms/step\n",
      "1/1 [==============================] - 0s 79ms/step\n",
      "1/1 [==============================] - 0s 79ms/step\n",
      "1/1 [==============================] - 0s 95ms/step\n",
      "1/1 [==============================] - 0s 78ms/step\n",
      "1/1 [==============================] - 0s 79ms/step\n",
      "1/1 [==============================] - 0s 79ms/step\n",
      "1/1 [==============================] - 0s 95ms/step\n",
      "1/1 [==============================] - 0s 79ms/step\n",
      "1/1 [==============================] - 0s 79ms/step\n",
      "1/1 [==============================] - 0s 79ms/step\n",
      "1/1 [==============================] - 0s 79ms/step\n",
      "1/1 [==============================] - 0s 77ms/step\n",
      "1/1 [==============================] - 0s 79ms/step\n",
      "1/1 [==============================] - 0s 79ms/step\n",
      "1/1 [==============================] - 0s 67ms/step\n",
      "1/1 [==============================] - 0s 79ms/step\n",
      "1/1 [==============================] - 0s 78ms/step\n",
      "1/1 [==============================] - 0s 69ms/step\n",
      "1/1 [==============================] - 0s 63ms/step\n",
      "1/1 [==============================] - 0s 78ms/step\n",
      "1/1 [==============================] - 0s 79ms/step\n",
      "1/1 [==============================] - 0s 79ms/step\n",
      "1/1 [==============================] - 0s 78ms/step\n",
      "1/1 [==============================] - 0s 63ms/step\n",
      "1/1 [==============================] - 0s 80ms/step\n",
      "1/1 [==============================] - 0s 63ms/step\n",
      "1/1 [==============================] - 0s 78ms/step\n",
      "1/1 [==============================] - 0s 62ms/step\n",
      "1/1 [==============================] - 0s 78ms/step\n",
      "1/1 [==============================] - 0s 63ms/step\n",
      "1/1 [==============================] - 0s 79ms/step\n",
      "1/1 [==============================] - 0s 63ms/step\n",
      "1/1 [==============================] - 0s 79ms/step\n",
      "1/1 [==============================] - 0s 79ms/step\n",
      "1/1 [==============================] - 0s 78ms/step\n",
      "1/1 [==============================] - 0s 79ms/step\n",
      "1/1 [==============================] - 0s 79ms/step\n",
      "1/1 [==============================] - 0s 81ms/step\n",
      "1/1 [==============================] - 0s 78ms/step\n",
      "1/1 [==============================] - 0s 79ms/step\n",
      "1/1 [==============================] - 0s 78ms/step\n",
      "1/1 [==============================] - 0s 78ms/step\n",
      "1/1 [==============================] - 0s 94ms/step\n",
      "1/1 [==============================] - 0s 63ms/step\n",
      "1/1 [==============================] - 0s 78ms/step\n",
      "1/1 [==============================] - 0s 79ms/step\n",
      "1/1 [==============================] - 0s 79ms/step\n",
      "1/1 [==============================] - 0s 78ms/step\n",
      "1/1 [==============================] - 0s 78ms/step\n",
      "1/1 [==============================] - 0s 72ms/step\n",
      "1/1 [==============================] - 0s 78ms/step\n",
      "1/1 [==============================] - 0s 79ms/step\n",
      "1/1 [==============================] - 0s 78ms/step\n",
      "1/1 [==============================] - 0s 78ms/step\n",
      "1/1 [==============================] - 0s 78ms/step\n",
      "1/1 [==============================] - 0s 78ms/step\n",
      "1/1 [==============================] - 0s 94ms/step\n",
      "1/1 [==============================] - 0s 79ms/step\n",
      "1/1 [==============================] - 0s 80ms/step\n",
      "1/1 [==============================] - 0s 78ms/step\n",
      "1/1 [==============================] - 0s 78ms/step\n",
      "1/1 [==============================] - 0s 78ms/step\n",
      "1/1 [==============================] - 0s 78ms/step\n",
      "1/1 [==============================] - 0s 78ms/step\n",
      "1/1 [==============================] - 0s 78ms/step\n",
      "1/1 [==============================] - 0s 78ms/step\n",
      "1/1 [==============================] - 0s 62ms/step\n",
      "1/1 [==============================] - 0s 79ms/step\n",
      "1/1 [==============================] - 0s 78ms/step\n",
      "1/1 [==============================] - 0s 83ms/step\n",
      "1/1 [==============================] - 0s 78ms/step\n",
      "1/1 [==============================] - 0s 78ms/step\n",
      "1/1 [==============================] - 0s 78ms/step\n",
      "1/1 [==============================] - 0s 79ms/step\n",
      "1/1 [==============================] - 0s 79ms/step\n",
      "1/1 [==============================] - 0s 80ms/step\n",
      "1/1 [==============================] - 0s 78ms/step\n",
      "1/1 [==============================] - 0s 79ms/step\n",
      "1/1 [==============================] - 0s 62ms/step\n",
      "1/1 [==============================] - 0s 80ms/step\n",
      "1/1 [==============================] - 0s 64ms/step\n",
      "1/1 [==============================] - 0s 79ms/step\n",
      "1/1 [==============================] - 0s 79ms/step\n",
      "1/1 [==============================] - 0s 78ms/step\n",
      "1/1 [==============================] - 0s 79ms/step\n",
      "1/1 [==============================] - 0s 79ms/step\n",
      "1/1 [==============================] - 0s 74ms/step\n",
      "1/1 [==============================] - 0s 78ms/step\n",
      "1/1 [==============================] - 0s 78ms/step\n",
      "1/1 [==============================] - 0s 79ms/step\n",
      "1/1 [==============================] - 0s 63ms/step\n",
      "1/1 [==============================] - 0s 80ms/step\n",
      "1/1 [==============================] - 0s 78ms/step\n",
      "1/1 [==============================] - 0s 80ms/step\n",
      "1/1 [==============================] - 0s 63ms/step\n",
      "1/1 [==============================] - 0s 78ms/step\n",
      "1/1 [==============================] - 0s 79ms/step\n",
      "1/1 [==============================] - 0s 78ms/step\n",
      "1/1 [==============================] - 0s 78ms/step\n",
      "1/1 [==============================] - 0s 78ms/step\n",
      "1/1 [==============================] - 0s 78ms/step\n",
      "1/1 [==============================] - 0s 79ms/step\n",
      "1/1 [==============================] - 0s 82ms/step\n",
      "1/1 [==============================] - 0s 78ms/step\n",
      "1/1 [==============================] - 0s 78ms/step\n",
      "1/1 [==============================] - 0s 79ms/step\n",
      "1/1 [==============================] - 0s 79ms/step\n",
      "1/1 [==============================] - 0s 79ms/step\n",
      "1/1 [==============================] - 0s 79ms/step\n",
      "1/1 [==============================] - 0s 79ms/step\n",
      "1/1 [==============================] - 0s 78ms/step\n",
      "1/1 [==============================] - 0s 78ms/step\n",
      "1/1 [==============================] - 0s 80ms/step\n",
      "1/1 [==============================] - 0s 80ms/step\n",
      "1/1 [==============================] - 0s 78ms/step\n",
      "1/1 [==============================] - 0s 78ms/step\n",
      "1/1 [==============================] - 0s 80ms/step\n",
      "1/1 [==============================] - 0s 78ms/step\n",
      "1/1 [==============================] - 0s 63ms/step\n",
      "1/1 [==============================] - 0s 78ms/step\n"
     ]
    }
   ],
   "source": [
    "forecast = []\n",
    "# Replace periods with whatever forecast length you want\n",
    "periods = 130\n",
    "\n",
    "#first_eval_batch = scaled_full_data[-length:]\n",
    "current_batch = first_eval_batch.reshape((1, length, n_features))\n",
    "for i in range(periods):\n",
    "    \n",
    "    # get prediction 1 time stamp ahead ([0] is for grabbing just the number instead of [array])\n",
    "    current_pred = model.predict(current_batch)[0]\n",
    "    \n",
    "    # store prediction\n",
    "    forecast.append(current_pred) \n",
    "    \n",
    "    # update batch to now include prediction and drop first value\n",
    "    current_batch = np.append(current_batch[:,1:,:],[[current_pred]],axis=1)"
   ]
  },
  {
   "cell_type": "code",
   "execution_count": 48,
   "id": "f9063171",
   "metadata": {},
   "outputs": [
    {
     "data": {
      "text/html": [
       "<div>\n",
       "<style scoped>\n",
       "    .dataframe tbody tr th:only-of-type {\n",
       "        vertical-align: middle;\n",
       "    }\n",
       "\n",
       "    .dataframe tbody tr th {\n",
       "        vertical-align: top;\n",
       "    }\n",
       "\n",
       "    .dataframe thead th {\n",
       "        text-align: right;\n",
       "    }\n",
       "</style>\n",
       "<table border=\"1\" class=\"dataframe\">\n",
       "  <thead>\n",
       "    <tr style=\"text-align: right;\">\n",
       "      <th></th>\n",
       "      <th>Forecast</th>\n",
       "    </tr>\n",
       "  </thead>\n",
       "  <tbody>\n",
       "    <tr>\n",
       "      <th>2021-12-01</th>\n",
       "      <td>126.540123</td>\n",
       "    </tr>\n",
       "    <tr>\n",
       "      <th>2021-12-02</th>\n",
       "      <td>126.520658</td>\n",
       "    </tr>\n",
       "    <tr>\n",
       "      <th>2021-12-03</th>\n",
       "      <td>126.509846</td>\n",
       "    </tr>\n",
       "    <tr>\n",
       "      <th>2021-12-06</th>\n",
       "      <td>126.507301</td>\n",
       "    </tr>\n",
       "    <tr>\n",
       "      <th>2021-12-07</th>\n",
       "      <td>126.511573</td>\n",
       "    </tr>\n",
       "    <tr>\n",
       "      <th>...</th>\n",
       "      <td>...</td>\n",
       "    </tr>\n",
       "    <tr>\n",
       "      <th>2022-05-25</th>\n",
       "      <td>127.804030</td>\n",
       "    </tr>\n",
       "    <tr>\n",
       "      <th>2022-05-26</th>\n",
       "      <td>127.809487</td>\n",
       "    </tr>\n",
       "    <tr>\n",
       "      <th>2022-05-27</th>\n",
       "      <td>127.814901</td>\n",
       "    </tr>\n",
       "    <tr>\n",
       "      <th>2022-05-30</th>\n",
       "      <td>127.820266</td>\n",
       "    </tr>\n",
       "    <tr>\n",
       "      <th>2022-05-31</th>\n",
       "      <td>127.825539</td>\n",
       "    </tr>\n",
       "  </tbody>\n",
       "</table>\n",
       "<p>130 rows × 1 columns</p>\n",
       "</div>"
      ],
      "text/plain": [
       "              Forecast\n",
       "2021-12-01  126.540123\n",
       "2021-12-02  126.520658\n",
       "2021-12-03  126.509846\n",
       "2021-12-06  126.507301\n",
       "2021-12-07  126.511573\n",
       "...                ...\n",
       "2022-05-25  127.804030\n",
       "2022-05-26  127.809487\n",
       "2022-05-27  127.814901\n",
       "2022-05-30  127.820266\n",
       "2022-05-31  127.825539\n",
       "\n",
       "[130 rows x 1 columns]"
      ]
     },
     "execution_count": 48,
     "metadata": {},
     "output_type": "execute_result"
    }
   ],
   "source": [
    "forecast = scaler.inverse_transform(forecast)\n",
    "forecast_df = pd.DataFrame(data=forecast,index=forecast_date,\n",
    "                           columns=['Forecast'])\n",
    "forecast_df"
   ]
  },
  {
   "cell_type": "code",
   "execution_count": 49,
   "id": "03213863",
   "metadata": {
    "scrolled": true
   },
   "outputs": [
    {
     "data": {
      "text/plain": [
       "<AxesSubplot:>"
      ]
     },
     "execution_count": 49,
     "metadata": {},
     "output_type": "execute_result"
    },
    {
     "data": {
      "image/png": "[encoded data removed]",
      "text/plain": [
       "<Figure size 640x480 with 1 Axes>"
      ]
     },
     "metadata": {},
     "output_type": "display_data"
    },
    {
     "data": {
      "image/png": "[encoded data removed]",
      "text/plain": [
       "<Figure size 640x480 with 1 Axes>"
      ]
     },
     "metadata": {},
     "output_type": "display_data"
    }
   ],
   "source": [
    "data.plot()\n",
    "forecast_df.plot()"
   ]
  },
  {
   "cell_type": "code",
   "execution_count": 50,
   "id": "77865fc7",
   "metadata": {},
   "outputs": [
    {
     "data": {
      "text/plain": [
       "<AxesSubplot:xlabel='Date'>"
      ]
     },
     "execution_count": 50,
     "metadata": {},
     "output_type": "execute_result"
    },
    {
     "data": {
      "image/png": "[encoded data removed]",
      "text/plain": [
       "<Figure size 640x480 with 1 Axes>"
      ]
     },
     "metadata": {},
     "output_type": "display_data"
    }
   ],
   "source": [
    "ax = data.plot()\n",
    "forecast_df.plot(ax=ax)"
   ]
  },
  {
   "cell_type": "code",
   "execution_count": 51,
   "id": "7c8f915d",
   "metadata": {},
   "outputs": [
    {
     "data": {
      "text/plain": [
       "(18628.0, 19143.0)"
      ]
     },
     "execution_count": 51,
     "metadata": {},
     "output_type": "execute_result"
    },
    {
     "data": {
      "image/png": "[encoded data removed]",
      "text/plain": [
       "<Figure size 640x480 with 1 Axes>"
      ]
     },
     "metadata": {},
     "output_type": "display_data"
    }
   ],
   "source": [
    "ax = data.plot()\n",
    "forecast_df.plot(ax=ax)\n",
    "plt.xlim('2021-01-01','2022-05-31')"
   ]
  },
  {
   "cell_type": "code",
   "execution_count": 52,
   "id": "679bf54f",
   "metadata": {},
   "outputs": [],
   "source": [
    "model.save('AAPL_model.h5')"
   ]
  },
  {
   "cell_type": "code",
   "execution_count": null,
   "id": "32118b6a",
   "metadata": {},
   "outputs": [],
   "source": []
  }
 ],
 "metadata": {
  "kernelspec": {
   "display_name": "Python 3 (ipykernel)",
   "language": "python",
   "name": "python3"
  },
  "language_info": {
   "codemirror_mode": {
    "name": "ipython",
    "version": 3
   },
   "file_extension": ".py",
   "mimetype": "text/x-python",
   "name": "python",
   "nbconvert_exporter": "python",
   "pygments_lexer": "ipython3",
   "version": "3.9.13"
  }
 },
 "nbformat": 4,
 "nbformat_minor": 5
}
